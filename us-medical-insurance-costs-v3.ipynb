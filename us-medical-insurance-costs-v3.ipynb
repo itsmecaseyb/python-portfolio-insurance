{
 "cells": [
  {
   "cell_type": "markdown",
   "metadata": {},
   "source": [
    "# U.S. Medical Insurance Costs\n",
    "\n",
    "The goal of this project is to investigate how different demographic data affects insurance costs. We will also compare our dataset to available US Census data to evaluate whether our sample data is representative of the US adult population."
   ]
  },
  {
   "cell_type": "markdown",
   "metadata": {},
   "source": [
    "## Part 1: Import and Preprocess Data\n",
    "\n",
    "Sample insurance data has been provided by Codecademy. \n",
    "\n",
    "Census data was acquired from the [US Census website](https://data.census.gov/table?t=Age+and+Sex&tid=ACSST1Y2021.S0101) from the 2021 Annual Community Survey."
   ]
  },
  {
   "cell_type": "code",
   "execution_count": 1,
   "metadata": {},
   "outputs": [],
   "source": [
    "# Import csv library\n",
    "import csv"
   ]
  },
  {
   "cell_type": "code",
   "execution_count": 2,
   "metadata": {},
   "outputs": [],
   "source": [
    "# Read in insurance data\n",
    "with open('insurance.csv') as insurance_csv:\n",
    "    insurance_data = list(csv.DictReader(insurance_csv))"
   ]
  },
  {
   "cell_type": "code",
   "execution_count": 3,
   "metadata": {},
   "outputs": [],
   "source": [
    "# Read in Census data\n",
    "with open('census_data.csv') as census_csv:\n",
    "    census_data = {}\n",
    "    census_file = csv.DictReader(census_csv)\n",
    "    for record in census_file:\n",
    "        census_data.update({record['Age_Grouping']: record})"
   ]
  },
  {
   "cell_type": "markdown",
   "metadata": {},
   "source": [
    "Looking at the data, we can see that our data isn't all in the format we need. Numeric and yes/no values are stored as strings."
   ]
  },
  {
   "cell_type": "code",
   "execution_count": 4,
   "metadata": {},
   "outputs": [
    {
     "name": "stdout",
     "output_type": "stream",
     "text": [
      "[{'age': '19', 'sex': 'female', 'bmi': '27.9', 'children': '0', 'smoker': 'yes', 'region': 'southwest', 'charges': '16884.924'}, {'age': '18', 'sex': 'male', 'bmi': '33.77', 'children': '1', 'smoker': 'no', 'region': 'southeast', 'charges': '1725.5523'}, {'age': '28', 'sex': 'male', 'bmi': '33', 'children': '3', 'smoker': 'no', 'region': 'southeast', 'charges': '4449.462'}]\n",
      "{'Age_Grouping': 'Total_population', 'Total_Estimate': '331893745', 'Male_Estimate': '164350703', 'Female_Estimate': '167543042'}\n"
     ]
    }
   ],
   "source": [
    "print(insurance_data[0:3])\n",
    "print(census_data['Total_population'])"
   ]
  },
  {
   "cell_type": "markdown",
   "metadata": {},
   "source": [
    "We'll iterate through the insurance and Census data to reformat the data."
   ]
  },
  {
   "cell_type": "code",
   "execution_count": 5,
   "metadata": {},
   "outputs": [],
   "source": [
    "# Reformat numeric values in insurance data, convert yes/no data to 1/0\n",
    "for record in insurance_data:\n",
    "    record['age'] = int(record['age'])\n",
    "    record['bmi'] = float(record['bmi'])\n",
    "    record['children'] = int(record['children'])\n",
    "    record['charges'] = float(record['charges'])\n",
    "    if record['smoker'] == 'yes':\n",
    "        record['smoker'] = 1\n",
    "    if record['smoker'] == 'no':\n",
    "        record['smoker'] = 0"
   ]
  },
  {
   "cell_type": "code",
   "execution_count": 6,
   "metadata": {},
   "outputs": [],
   "source": [
    "# Reformat numeric values in Census data\n",
    "for group, record in census_data.items():\n",
    "    record['Total_Estimate'] = int(record['Total_Estimate'])\n",
    "    record['Male_Estimate'] = int(record['Male_Estimate'])\n",
    "    record['Female_Estimate'] = int(record['Female_Estimate'])"
   ]
  },
  {
   "cell_type": "markdown",
   "metadata": {},
   "source": [
    "Next we'll compare the ages present in the insurance data to the age groupings in the Census data to see if there are ages in one dataset that aren't present in the other. We find and print the maximum and minimum ages in the insurance dataset, and print the age groupings in the Census data."
   ]
  },
  {
   "cell_type": "code",
   "execution_count": 11,
   "metadata": {},
   "outputs": [
    {
     "name": "stdout",
     "output_type": "stream",
     "text": [
      "Insurance Minimum Age: 18\n",
      "Insurance Maximum Age: 64\n",
      "\n",
      "\n",
      "Total_population\n",
      "Under 5 years\n",
      "5 to 9 years\n",
      "10 to 14 years\n",
      "15 to 19 years\n",
      "20 to 24 years\n",
      "25 to 29 years\n",
      "30 to 34 years\n",
      "35 to 39 years\n",
      "40 to 44 years\n",
      "45 to 49 years\n",
      "50 to 54 years\n",
      "55 to 59 years\n",
      "60 to 64 years\n",
      "65 to 69 years\n",
      "70 to 74 years\n",
      "75 to 79 years\n",
      "80 to 84 years\n",
      "85 years and over\n"
     ]
    }
   ],
   "source": [
    "# Initialize max and min ages\n",
    "# Min is set to infinity so any value in insurance data will be lower\n",
    "# Max is set to 0 so any value in insurance data will be higher\n",
    "ins_min_age = float('inf')\n",
    "ins_max_age = 0\n",
    "\n",
    "for record in insurance_data:\n",
    "    # Check if age in record is less than minimum age\n",
    "    # If so, set minimum age equal to record's age\n",
    "    if record['age'] < ins_min_age:\n",
    "        ins_min_age = record['age']\n",
    "    # Check if agen in record is greater than maximum age\n",
    "    # If so, set maximum age equal to record's age\n",
    "    if record['age'] > ins_max_age:\n",
    "        ins_max_age = record['age']\n",
    "\n",
    "# Print max and min insurance ages\n",
    "print('Insurance Minimum Age: ' + str(ins_min_age) + '\\n'\\\n",
    "     'Insurance Maximum Age: ' + str(ins_max_age) + '\\n\\n')\n",
    "\n",
    "# Iterate through Census data and print all age groupings\n",
    "for key in census_data.keys():\n",
    "    print(key)"
   ]
  },
  {
   "cell_type": "markdown",
   "metadata": {},
   "source": [
    "We can now see that the ages in the insurance data range from 18 to 64 years while the Census data has age groupings as young as under 5 and as old as 85 years and older. We'll remove the age groups from the Census data that aren't present in the insurance data. Because we have no insurance data for ages 15 through 17, our first age group to compare across datasets will be 20 to 24 years old.\n",
    "\n",
    "When the unneeded age groups are removed, their dictionaries will be removed from the Census data and their population counts will be removed from the overall population total and the overall male and female population totals."
   ]
  },
  {
   "cell_type": "code",
   "execution_count": 12,
   "metadata": {},
   "outputs": [],
   "source": [
    "# Define unneeded age groups\n",
    "groups_to_remove = ['Under 5 years', \n",
    "                    '5 to 9 years', \n",
    "                    '10 to 14 years', \n",
    "                    '15 to 19 years', \n",
    "                    '65 to 69 years', \n",
    "                    '70 to 74 years',\n",
    "                    '75 to 79 years',\n",
    "                    '80 to 84 years',\n",
    "                    '85 years and over']\n",
    "\n",
    "# Store the overall total population and total male and female populations\n",
    "# These will be used to update the census data with new population totals after unneeded groups are removed\n",
    "census_total_pop = census_data['Total_population']['Total_Estimate']\n",
    "census_total_female = census_data['Total_population']['Female_Estimate']\n",
    "census_total_male = census_data['Total_population']['Male_Estimate']\n",
    "\n",
    "for group in groups_to_remove:\n",
    "    # Subtract the total group population from the overall total\n",
    "    census_total_pop = census_total_pop - census_data[group]['Total_Estimate']\n",
    "    # Subtract the female group population from the overall female total\n",
    "    census_total_female = census_total_female - census_data[group]['Female_Estimate']\n",
    "    # Subtract the male group population from the overall male total\n",
    "    census_total_male = census_total_male - census_data[group]['Male_Estimate']\n",
    "\n",
    "# Update Census total populations with new values\n",
    "census_data['Total_population']['Total_Estimate'] = census_total_pop\n",
    "census_data['Total_population']['Female_Estimate'] = census_total_female\n",
    "census_data['Total_population']['Male_Estimate'] = census_total_male"
   ]
  },
  {
   "cell_type": "code",
   "execution_count": 13,
   "metadata": {},
   "outputs": [],
   "source": [
    "# Remove unneeded group dictionaries from Census data\n",
    "for group in groups_to_remove:\n",
    "    census_data.pop(group, None)"
   ]
  },
  {
   "cell_type": "markdown",
   "metadata": {},
   "source": [
    "The keys currently used in the Census dictionary are long and leave lots of room for error when trying to access a specific key. We'll shorten them for ease of use. Since we're not able to change the keys in existing dictionaries, we'll create a new dictionary using the new keys with the existing Census data."
   ]
  },
  {
   "cell_type": "code",
   "execution_count": 14,
   "metadata": {},
   "outputs": [],
   "source": [
    "# Create list of existing keys\n",
    "census_keys = list(census_data.keys())\n",
    "\n",
    "# Define new keys\n",
    "census_keys_new = ['total',\n",
    "                  '20_24',\n",
    "                  '25_29',\n",
    "                  '30_34',\n",
    "                  '35_39',\n",
    "                  '40_44',\n",
    "                  '45_49',\n",
    "                  '50_54',\n",
    "                  '55_59',\n",
    "                  '60_64']\n",
    "\n",
    "# Create empty dictionary for new keys\n",
    "census_dat = {}\n",
    "\n",
    "# Populate dictionary with Census data and new keys\n",
    "for i in range(len(census_keys)):\n",
    "    census_dat.update({census_keys_new[i]: census_data[census_keys[i]]})"
   ]
  },
  {
   "cell_type": "markdown",
   "metadata": {},
   "source": [
    "## Part 2: Store Data in Variables\n",
    "\n",
    "To make comparison between the Census and insurance data easier, we'll create a dictionary of dictionaries from the insurance data that mimics the form of the list of Census dictionaries.\n",
    "\n",
    "We'll use the old census keys to populate the Age Grouping for each dictionary."
   ]
  },
  {
   "cell_type": "code",
   "execution_count": 15,
   "metadata": {},
   "outputs": [],
   "source": [
    "# Create empty dictionary\n",
    "ins_data_compare = {}\n",
    "\n",
    "# Add dictionaries with empty counts for each age group\n",
    "for i in range(len(census_keys)):\n",
    "    ins_data_compare.update({census_keys_new[i]: \n",
    "                             {'Age_Grouping': census_keys[i], \n",
    "                              'Total_Estimate': 0, \n",
    "                              'Male_Estimate': 0, \n",
    "                              'Female_Estimate': 0}})"
   ]
  },
  {
   "cell_type": "code",
   "execution_count": 19,
   "metadata": {},
   "outputs": [],
   "source": [
    "# Iterate through insurance data to calculate counts for different groups\n",
    "for record in insurance_data:\n",
    "    # For each record in insurance data, add one to overall population count\n",
    "    ins_data_compare['total']['Total_Estimate'] += 1\n",
    "    # If record's sex is female, add one to overall female population\n",
    "    if record['sex'] == 'female':\n",
    "        ins_data_compare['total']['Female_Estimate'] += 1\n",
    "    # If record's sex is male, add one to overall male population\n",
    "    if record['sex'] == 'male':\n",
    "        ins_data_compare['total']['Male_Estimate'] += 1\n",
    "    # Find appropriate age and sex group for record, add one to age group population and age group sex population\n",
    "    for key in ins_data_compare.keys():\n",
    "        if key == 'total':\n",
    "            continue\n",
    "        if record['age'] >= int(key[0:1]) and record['age'] <= int(key[-2:]) and record['sex'] == 'female':\n",
    "            ins_data_compare[key]['Total_Estimate'] += 1\n",
    "            ins_data_compare[key]['Female_Estimate'] += 1\n",
    "        if record['age'] >= int(key[0:1]) and record['age'] <= int(key[-2:]) and record['sex'] == 'male':\n",
    "            ins_data_compare[key]['Total_Estimate'] += 1\n",
    "            ins_data_compare[key]['Male_Estimate'] += 1"
   ]
  },
  {
   "cell_type": "markdown",
   "metadata": {},
   "source": [
    "## Part 3a: Compare Insurance and Census Data\n",
    "\n",
    "Ages and sexes from insurance and Census data are compared to evaluate if insurance data is representative of the US population in relevant age groups."
   ]
  },
  {
   "cell_type": "code",
   "execution_count": 21,
   "metadata": {},
   "outputs": [],
   "source": [
    "# Create new dictionaries to store Census and insurance data as proportions\n",
    "ins_proportions = {}\n",
    "census_proportions = {}\n",
    "\n",
    "def make_proportions(dictionary_in, dictionary_out):\n",
    "    for group, record in dictionary_in.items():\n",
    "        # Store total population for all age groups and sexes\n",
    "        overall_total = dictionary_in['total']['Total_Estimate']\n",
    "        # Add dictionary for age group\n",
    "        dictionary_out.update({record['Age_Grouping']: \n",
    "                               # Store proportion of age group in total population\n",
    "                                {'Total': round(record['Total_Estimate'] / overall_total, 4),\n",
    "                                 # Store proportion of female population in age group\n",
    "                                'Female_Prop': round(record['Female_Estimate'] / record['Total_Estimate'], 4),\n",
    "                                 # Store proportion of male population in age group\n",
    "                                'Male_Prop': round(record['Male_Estimate'] / record['Total_Estimate'], 4)}})"
   ]
  },
  {
   "cell_type": "code",
   "execution_count": 22,
   "metadata": {},
   "outputs": [],
   "source": [
    "# Populate dictionaries\n",
    "make_proportions(ins_data_compare, ins_proportions)\n",
    "make_proportions(census_dat, census_proportions)"
   ]
  },
  {
   "cell_type": "code",
   "execution_count": 24,
   "metadata": {},
   "outputs": [
    {
     "name": "stdout",
     "output_type": "stream",
     "text": [
      "Age Group: Total_population\n",
      "TOTAL PROPORTION\n",
      "Census: 1.0\n",
      "Insurance: 1.0\n",
      "FEMALE PROPORTION\n",
      "Census: 0.4992\n",
      "Insurance: 0.4955\n",
      "MALE PROPORTION\n",
      "Census: 0.5008\n",
      "Insurance: 0.5045\n",
      "\n",
      "Age Group: 20 to 24 years\n",
      "TOTAL PROPORTION\n",
      "Census: 0.1104\n",
      "Insurance: 0.2075\n",
      "FEMALE PROPORTION\n",
      "Census: 0.4891\n",
      "Insurance: 0.482\n",
      "MALE PROPORTION\n",
      "Census: 0.5109\n",
      "Insurance: 0.518\n",
      "\n",
      "Age Group: 25 to 29 years\n",
      "TOTAL PROPORTION\n",
      "Census: 0.1141\n",
      "Insurance: 0.3112\n",
      "FEMALE PROPORTION\n",
      "Census: 0.4927\n",
      "Insurance: 0.482\n",
      "MALE PROPORTION\n",
      "Census: 0.5073\n",
      "Insurance: 0.518\n",
      "\n",
      "Age Group: 30 to 34 years\n",
      "TOTAL PROPORTION\n",
      "Census: 0.1186\n",
      "Insurance: 0.4097\n",
      "FEMALE PROPORTION\n",
      "Census: 0.4954\n",
      "Insurance: 0.4845\n",
      "MALE PROPORTION\n",
      "Census: 0.5046\n",
      "Insurance: 0.5155\n",
      "\n",
      "Age Group: 35 to 39 years\n",
      "TOTAL PROPORTION\n",
      "Census: 0.1155\n",
      "Insurance: 0.503\n",
      "FEMALE PROPORTION\n",
      "Census: 0.4939\n",
      "Insurance: 0.4866\n",
      "MALE PROPORTION\n",
      "Census: 0.5061\n",
      "Insurance: 0.5134\n",
      "\n",
      "Age Group: 40 to 44 years\n",
      "TOTAL PROPORTION\n",
      "Census: 0.1103\n",
      "Insurance: 0.6037\n",
      "FEMALE PROPORTION\n",
      "Census: 0.499\n",
      "Insurance: 0.4883\n",
      "MALE PROPORTION\n",
      "Census: 0.501\n",
      "Insurance: 0.5117\n",
      "\n",
      "Age Group: 45 to 49 years\n",
      "TOTAL PROPORTION\n",
      "Census: 0.1021\n",
      "Insurance: 0.7112\n",
      "FEMALE PROPORTION\n",
      "Census: 0.5012\n",
      "Insurance: 0.49\n",
      "MALE PROPORTION\n",
      "Census: 0.4988\n",
      "Insurance: 0.51\n",
      "\n",
      "Age Group: 50 to 54 years\n",
      "TOTAL PROPORTION\n",
      "Census: 0.1079\n",
      "Insurance: 0.8179\n",
      "FEMALE PROPORTION\n",
      "Census: 0.5013\n",
      "Insurance: 0.4918\n",
      "MALE PROPORTION\n",
      "Census: 0.4987\n",
      "Insurance: 0.5082\n",
      "\n",
      "Age Group: 55 to 59 years\n",
      "TOTAL PROPORTION\n",
      "Census: 0.1092\n",
      "Insurance: 0.9134\n",
      "FEMALE PROPORTION\n",
      "Census: 0.5062\n",
      "Insurance: 0.4935\n",
      "MALE PROPORTION\n",
      "Census: 0.4938\n",
      "Insurance: 0.5065\n",
      "\n",
      "Age Group: 60 to 64 years\n",
      "TOTAL PROPORTION\n",
      "Census: 0.1119\n",
      "Insurance: 0.9985\n",
      "FEMALE PROPORTION\n",
      "Census: 0.5149\n",
      "Insurance: 0.4948\n",
      "MALE PROPORTION\n",
      "Census: 0.4851\n",
      "Insurance: 0.5052\n",
      "\n"
     ]
    }
   ],
   "source": [
    "# Print comparisons of the insurance and Census proportions for age and gender\n",
    "# This loop requires the age_group_labels list to be defined above\n",
    "for group in census_keys:\n",
    "    # Print header comparing proportion of age group in overall populations\n",
    "    print('Age Group: ' + group + '\\n' + \\\n",
    "         'TOTAL PROPORTION' + '\\n' + \\\n",
    "         'Census: ' + str(census_proportions[group]['Total']) + '\\n' + \\\n",
    "         'Insurance: ' + str(ins_proportions[group]['Total']) + '\\n' + \\\n",
    "         # Print comparison of female proportions of age group\n",
    "         'FEMALE PROPORTION' + '\\n' + \\\n",
    "         'Census: ' + str(census_proportions[group]['Female_Prop']) + '\\n' + \\\n",
    "         'Insurance: ' + str(ins_proportions[group]['Female_Prop']) + '\\n' + \\\n",
    "         # Print comparisons of male proportions of age group\n",
    "         'MALE PROPORTION' + '\\n' + \\\n",
    "         'Census: ' + str(census_proportions[group]['Male_Prop']) + '\\n' + \\\n",
    "         'Insurance: ' + str(ins_proportions[group]['Male_Prop']) + '\\n')"
   ]
  },
  {
   "cell_type": "markdown",
   "metadata": {},
   "source": [
    "Based on our available data, all groups in the insurance data appear to be fairly represented along age and gender lines. A few age groups (30 to 34, 35 to 39, and 60 to 64) are under-represented by a 2-3 percentage points, but that shouldn't have a significant impact on our analysis."
   ]
  },
  {
   "cell_type": "markdown",
   "metadata": {},
   "source": [
    "## Part 3b: Compare Insurance Costs Across Demographics\n",
    "\n",
    "Now that we've compared the insurance data to Census data, we'll compare costs for three different demographic groups of interest: sex, smoker status, and region. First we'll create a list of the unique regions."
   ]
  },
  {
   "cell_type": "code",
   "execution_count": 139,
   "metadata": {},
   "outputs": [
    {
     "name": "stdout",
     "output_type": "stream",
     "text": [
      "['southwest', 'southeast', 'northwest', 'northeast']\n"
     ]
    }
   ],
   "source": [
    "unique_regions = []\n",
    "\n",
    "for record in insurance_data:\n",
    "    # Check if record's region is in unique regions list\n",
    "    # If not, add to regions list\n",
    "    if record['region'] not in unique_regions:\n",
    "        unique_regions.append(record['region'])\n",
    "\n",
    "print(unique_regions)"
   ]
  },
  {
   "cell_type": "code",
   "execution_count": 142,
   "metadata": {},
   "outputs": [
    {
     "name": "stdout",
     "output_type": "stream",
     "text": [
      "Average Female Charges: 12569.5788\n",
      "Average Male Charges: 13956.7512\n"
     ]
    }
   ],
   "source": [
    "def compare_sexes(dict_list):\n",
    "    # Set counts and costs for each sex group to 0\n",
    "    female_cost = 0\n",
    "    female_count = 0\n",
    "    male_cost = 0\n",
    "    male_count = 0\n",
    "    for record in dict_list:\n",
    "        # Check if record's sex is female\n",
    "        # If so, add charges to the total and add one to female count\n",
    "        if record['sex'] == 'female':\n",
    "            female_cost += record['charges']\n",
    "            female_count += 1\n",
    "        # Check if record's sex is male\n",
    "        # If so, add charges to total and add one to male count\n",
    "        if record['sex'] == 'male':\n",
    "            male_cost += record['charges']\n",
    "            male_count += 1\n",
    "    # Divide costs by count to find average cost for each sex\n",
    "    female_avg = female_cost / female_count\n",
    "    male_avg = male_cost / male_count\n",
    "    # Print results\n",
    "    print('Average Female Charges: ' + str(round(female_avg, 4)))\n",
    "    print(\"Average Male Charges: \" + str(round(male_avg, 4)))\n",
    "    \n",
    "compare_sexes(insurance_data)"
   ]
  },
  {
   "cell_type": "code",
   "execution_count": 146,
   "metadata": {},
   "outputs": [
    {
     "name": "stdout",
     "output_type": "stream",
     "text": [
      "Average Smoker Charges: 32050.2318\n",
      "Average Nonsmoker Charges: 8434.2683\n"
     ]
    }
   ],
   "source": [
    "def compare_smoker(dict_list):\n",
    "    smoker_cost = 0\n",
    "    smoker_count = 0\n",
    "    nonsmoker_cost = 0\n",
    "    nonsmoker_count = 0\n",
    "    for record in dict_list:\n",
    "        if record['smoker'] == 1:\n",
    "            smoker_cost += record['charges']\n",
    "            smoker_count += 1\n",
    "        if record['smoker'] == 0:\n",
    "            nonsmoker_cost += record['charges']\n",
    "            nonsmoker_count += 1\n",
    "    smoker_avg = smoker_cost / smoker_count\n",
    "    nonsmoker_avg = nonsmoker_cost / nonsmoker_count\n",
    "    print('Average Smoker Charges: ' + str(round(smoker_avg, 4)))\n",
    "    print('Average Nonsmoker Charges: ' + str(round(nonsmoker_avg, 4)))\n",
    "    \n",
    "compare_smoker(insurance_data)"
   ]
  },
  {
   "cell_type": "code",
   "execution_count": 148,
   "metadata": {},
   "outputs": [
    {
     "name": "stdout",
     "output_type": "stream",
     "text": [
      "Southwest Average: 12346.9374\n",
      "Southeast Average: 14735.4114\n",
      "Northwest Average: 12417.5754\n",
      "Northeast Average: 13406.3845\n"
     ]
    }
   ],
   "source": [
    "def compare_region(dict_list):\n",
    "    # Set region costs and counts to 0\n",
    "    southwest_cost = 0\n",
    "    southwest_count = 0\n",
    "    southeast_cost = 0\n",
    "    southeast_count = 0\n",
    "    northwest_cost = 0\n",
    "    northwest_count = 0\n",
    "    northeast_cost = 0\n",
    "    northeast_count = 0\n",
    "    # Iterate through dictionary list\n",
    "    # For appropriate region, add costs to total and increase count by 1\n",
    "    for record in dict_list:\n",
    "        if record['region'] == 'southwest':\n",
    "            southwest_cost += record['charges']\n",
    "            southwest_count += 1\n",
    "        if record['region'] == 'southeast':\n",
    "            southeast_cost += record['charges']\n",
    "            southeast_count += 1\n",
    "        if record['region'] == 'northwest':\n",
    "            northwest_cost += record['charges']\n",
    "            northwest_count += 1\n",
    "        if record['region'] == 'northeast':\n",
    "            northeast_cost += record['charges']\n",
    "            northeast_count += 1\n",
    "    # Divide costs by count to find averages\n",
    "    southwest_avg = southwest_cost / southwest_count\n",
    "    southeast_avg = southeast_cost / southeast_count\n",
    "    northwest_avg = northwest_cost / northwest_count\n",
    "    northeast_avg = northeast_cost / northeast_count\n",
    "    # Print results\n",
    "    print('Southwest Average: ' + str(round(southwest_avg, 4)))\n",
    "    print('Southeast Average: ' + str(round(southeast_avg, 4)))\n",
    "    print('Northwest Average: ' + str(round(northwest_avg, 4)))\n",
    "    print('Northeast Average: ' + str(round(northeast_avg, 4)))\n",
    "\n",
    "compare_region(insurance_data)"
   ]
  },
  {
   "cell_type": "markdown",
   "metadata": {},
   "source": [
    "From our analysis, we can see that males have slightly higher insurance costs on average than females, smokers have much higher insurance costs on average than non-smokers, and people in the southeast have higher insurance costs on average than other regions."
   ]
  }
 ],
 "metadata": {
  "kernelspec": {
   "display_name": "Python 3 (ipykernel)",
   "language": "python",
   "name": "python3"
  },
  "language_info": {
   "codemirror_mode": {
    "name": "ipython",
    "version": 3
   },
   "file_extension": ".py",
   "mimetype": "text/x-python",
   "name": "python",
   "nbconvert_exporter": "python",
   "pygments_lexer": "ipython3",
   "version": "3.9.13"
  }
 },
 "nbformat": 4,
 "nbformat_minor": 4
}
